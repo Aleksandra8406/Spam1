{
 "cells": [
  {
   "cell_type": "code",
   "execution_count": 17,
   "id": "0bae8881-4209-4aa1-8175-e3bbb5b331dc",
   "metadata": {},
   "outputs": [],
   "source": [
    "import pandas as pd\n",
    "import statistics as stats\n",
    "import numpy as np\n",
    "import matplotlib.pyplot as plt\n",
    "import seaborn as sns"
   ]
  },
  {
   "cell_type": "code",
   "execution_count": 18,
   "id": "d60ae193-0ac5-4f41-950e-83b7f9cc191b",
   "metadata": {},
   "outputs": [],
   "source": [
    "df= pd.read_csv(\"spambase.csv\")"
   ]
  },
  {
   "cell_type": "code",
   "execution_count": 19,
   "id": "c1068d8d-4797-4166-80c8-de63081b384f",
   "metadata": {},
   "outputs": [],
   "source": [
    "dataset = pd.read_csv"
   ]
  },
  {
   "cell_type": "code",
   "execution_count": 20,
   "id": "1a085974-c11d-41bf-8068-bfadfbf55538",
   "metadata": {},
   "outputs": [
    {
     "data": {
      "text/html": [
       "<div>\n",
       "<style scoped>\n",
       "    .dataframe tbody tr th:only-of-type {\n",
       "        vertical-align: middle;\n",
       "    }\n",
       "\n",
       "    .dataframe tbody tr th {\n",
       "        vertical-align: top;\n",
       "    }\n",
       "\n",
       "    .dataframe thead th {\n",
       "        text-align: right;\n",
       "    }\n",
       "</style>\n",
       "<table border=\"1\" class=\"dataframe\">\n",
       "  <thead>\n",
       "    <tr style=\"text-align: right;\">\n",
       "      <th></th>\n",
       "      <th>Unnamed: 0</th>\n",
       "      <th>word_freq_make</th>\n",
       "      <th>word_freq_address</th>\n",
       "      <th>word_freq_all</th>\n",
       "      <th>word_freq_3d</th>\n",
       "      <th>word_freq_our</th>\n",
       "      <th>word_freq_over</th>\n",
       "      <th>word_freq_remove</th>\n",
       "      <th>word_freq_internet</th>\n",
       "      <th>word_freq_order</th>\n",
       "      <th>...</th>\n",
       "      <th>char_freq_;</th>\n",
       "      <th>char_freq_(</th>\n",
       "      <th>char_freq_[</th>\n",
       "      <th>char_freq_!</th>\n",
       "      <th>char_freq_$</th>\n",
       "      <th>char_freq_#</th>\n",
       "      <th>capital_run_length_average</th>\n",
       "      <th>capital_run_length_longest</th>\n",
       "      <th>capital_run_length_total</th>\n",
       "      <th>is_spam</th>\n",
       "    </tr>\n",
       "  </thead>\n",
       "  <tbody>\n",
       "    <tr>\n",
       "      <th>0</th>\n",
       "      <td>0</td>\n",
       "      <td>0.00</td>\n",
       "      <td>0.64</td>\n",
       "      <td>0.64</td>\n",
       "      <td>0.0</td>\n",
       "      <td>0.32</td>\n",
       "      <td>0.00</td>\n",
       "      <td>0.00</td>\n",
       "      <td>0.00</td>\n",
       "      <td>0.00</td>\n",
       "      <td>...</td>\n",
       "      <td>0.00</td>\n",
       "      <td>0.000</td>\n",
       "      <td>0.0</td>\n",
       "      <td>0.778</td>\n",
       "      <td>0.000</td>\n",
       "      <td>0.000</td>\n",
       "      <td>3.756</td>\n",
       "      <td>61</td>\n",
       "      <td>278</td>\n",
       "      <td>True</td>\n",
       "    </tr>\n",
       "    <tr>\n",
       "      <th>1</th>\n",
       "      <td>1</td>\n",
       "      <td>0.21</td>\n",
       "      <td>0.28</td>\n",
       "      <td>0.50</td>\n",
       "      <td>0.0</td>\n",
       "      <td>0.14</td>\n",
       "      <td>0.28</td>\n",
       "      <td>0.21</td>\n",
       "      <td>0.07</td>\n",
       "      <td>0.00</td>\n",
       "      <td>...</td>\n",
       "      <td>0.00</td>\n",
       "      <td>0.132</td>\n",
       "      <td>0.0</td>\n",
       "      <td>0.372</td>\n",
       "      <td>0.180</td>\n",
       "      <td>0.048</td>\n",
       "      <td>5.114</td>\n",
       "      <td>101</td>\n",
       "      <td>1028</td>\n",
       "      <td>True</td>\n",
       "    </tr>\n",
       "    <tr>\n",
       "      <th>2</th>\n",
       "      <td>2</td>\n",
       "      <td>0.06</td>\n",
       "      <td>0.00</td>\n",
       "      <td>0.71</td>\n",
       "      <td>0.0</td>\n",
       "      <td>1.23</td>\n",
       "      <td>0.19</td>\n",
       "      <td>0.19</td>\n",
       "      <td>0.12</td>\n",
       "      <td>0.64</td>\n",
       "      <td>...</td>\n",
       "      <td>0.01</td>\n",
       "      <td>0.143</td>\n",
       "      <td>0.0</td>\n",
       "      <td>0.276</td>\n",
       "      <td>0.184</td>\n",
       "      <td>0.010</td>\n",
       "      <td>9.821</td>\n",
       "      <td>485</td>\n",
       "      <td>2259</td>\n",
       "      <td>True</td>\n",
       "    </tr>\n",
       "    <tr>\n",
       "      <th>3</th>\n",
       "      <td>3</td>\n",
       "      <td>0.00</td>\n",
       "      <td>0.00</td>\n",
       "      <td>0.00</td>\n",
       "      <td>0.0</td>\n",
       "      <td>0.63</td>\n",
       "      <td>0.00</td>\n",
       "      <td>0.31</td>\n",
       "      <td>0.63</td>\n",
       "      <td>0.31</td>\n",
       "      <td>...</td>\n",
       "      <td>0.00</td>\n",
       "      <td>0.137</td>\n",
       "      <td>0.0</td>\n",
       "      <td>0.137</td>\n",
       "      <td>0.000</td>\n",
       "      <td>0.000</td>\n",
       "      <td>3.537</td>\n",
       "      <td>40</td>\n",
       "      <td>191</td>\n",
       "      <td>True</td>\n",
       "    </tr>\n",
       "    <tr>\n",
       "      <th>4</th>\n",
       "      <td>4</td>\n",
       "      <td>0.00</td>\n",
       "      <td>0.00</td>\n",
       "      <td>0.00</td>\n",
       "      <td>0.0</td>\n",
       "      <td>0.63</td>\n",
       "      <td>0.00</td>\n",
       "      <td>0.31</td>\n",
       "      <td>0.63</td>\n",
       "      <td>0.31</td>\n",
       "      <td>...</td>\n",
       "      <td>0.00</td>\n",
       "      <td>0.135</td>\n",
       "      <td>0.0</td>\n",
       "      <td>0.135</td>\n",
       "      <td>0.000</td>\n",
       "      <td>0.000</td>\n",
       "      <td>3.537</td>\n",
       "      <td>40</td>\n",
       "      <td>191</td>\n",
       "      <td>True</td>\n",
       "    </tr>\n",
       "  </tbody>\n",
       "</table>\n",
       "<p>5 rows × 59 columns</p>\n",
       "</div>"
      ],
      "text/plain": [
       "   Unnamed: 0  word_freq_make  word_freq_address  word_freq_all  word_freq_3d  \\\n",
       "0           0            0.00               0.64           0.64           0.0   \n",
       "1           1            0.21               0.28           0.50           0.0   \n",
       "2           2            0.06               0.00           0.71           0.0   \n",
       "3           3            0.00               0.00           0.00           0.0   \n",
       "4           4            0.00               0.00           0.00           0.0   \n",
       "\n",
       "  word_freq_our  word_freq_over  word_freq_remove  word_freq_internet  \\\n",
       "0          0.32            0.00              0.00                0.00   \n",
       "1          0.14            0.28              0.21                0.07   \n",
       "2          1.23            0.19              0.19                0.12   \n",
       "3          0.63            0.00              0.31                0.63   \n",
       "4          0.63            0.00              0.31                0.63   \n",
       "\n",
       "   word_freq_order  ...  char_freq_;  char_freq_(  char_freq_[  char_freq_!  \\\n",
       "0             0.00  ...         0.00        0.000          0.0        0.778   \n",
       "1             0.00  ...         0.00        0.132          0.0        0.372   \n",
       "2             0.64  ...         0.01        0.143          0.0        0.276   \n",
       "3             0.31  ...         0.00        0.137          0.0        0.137   \n",
       "4             0.31  ...         0.00        0.135          0.0        0.135   \n",
       "\n",
       "   char_freq_$  char_freq_#  capital_run_length_average  \\\n",
       "0        0.000        0.000                       3.756   \n",
       "1        0.180        0.048                       5.114   \n",
       "2        0.184        0.010                       9.821   \n",
       "3        0.000        0.000                       3.537   \n",
       "4        0.000        0.000                       3.537   \n",
       "\n",
       "   capital_run_length_longest  capital_run_length_total  is_spam  \n",
       "0                          61                       278     True  \n",
       "1                         101                      1028     True  \n",
       "2                         485                      2259     True  \n",
       "3                          40                       191     True  \n",
       "4                          40                       191     True  \n",
       "\n",
       "[5 rows x 59 columns]"
      ]
     },
     "execution_count": 20,
     "metadata": {},
     "output_type": "execute_result"
    }
   ],
   "source": [
    "df.head()"
   ]
  },
  {
   "cell_type": "code",
   "execution_count": 21,
   "id": "7fafb6ea-1442-447d-8859-c4375696257e",
   "metadata": {},
   "outputs": [
    {
     "data": {
      "text/plain": [
       "(4601, 59)"
      ]
     },
     "execution_count": 21,
     "metadata": {},
     "output_type": "execute_result"
    }
   ],
   "source": [
    "df.shape"
   ]
  },
  {
   "cell_type": "markdown",
   "id": "0aafaaa2-1051-4845-9b95-6b69add49737",
   "metadata": {},
   "source": [
    " Dataset contains 4601 observations (rows) and 59 features (columns). The number of attributes is 58 (57 continuous and 1 nominal class label).\n",
    " Additional information obtained from \"spambase_documentation\" shows that spam constitutes 39.4% (1813 emails), while 2788 email are not spam (60.6%). \n",
    " The attributes are continuous (attributes of type word_freq_WORD, attributes of type char_freq_CHAR and attributes of type capital_run_lenght) and also categorical (last feature -indicator \"is_spam\" which is a binary attribute)"
   ]
  },
  {
   "cell_type": "markdown",
   "id": "79bb2ec5-130b-4159-86f6-f179adb5297b",
   "metadata": {},
   "source": [
    "This data shows the characteristics of emails based on their attributes Iword_freq,char_freq and capital_run_lenght). This characteristic is very important for identifying spam ( due to repeated charcters of words or frequent use of capital letters we can ditinguish spam from regular email).\n",
    "We can also compare the diffrences between spam and non-spam. "
   ]
  },
  {
   "cell_type": "markdown",
   "id": "08c9bef8-4744-40d1-979c-ee942f0b4abe",
   "metadata": {},
   "source": [
    "I would like to rename first column \"Unnamed:0\" to \"ID\"\n"
   ]
  },
  {
   "cell_type": "code",
   "execution_count": 22,
   "id": "d509a75f-925f-46b0-b0da-44148908d86a",
   "metadata": {},
   "outputs": [],
   "source": [
    "df = df.rename(columns={\"Unnamed: 0\":\"ID\"})"
   ]
  },
  {
   "cell_type": "code",
   "execution_count": 23,
   "id": "8ff7dbbb-7365-40e2-ab7e-ec262544ec47",
   "metadata": {},
   "outputs": [
    {
     "data": {
      "text/html": [
       "<div>\n",
       "<style scoped>\n",
       "    .dataframe tbody tr th:only-of-type {\n",
       "        vertical-align: middle;\n",
       "    }\n",
       "\n",
       "    .dataframe tbody tr th {\n",
       "        vertical-align: top;\n",
       "    }\n",
       "\n",
       "    .dataframe thead th {\n",
       "        text-align: right;\n",
       "    }\n",
       "</style>\n",
       "<table border=\"1\" class=\"dataframe\">\n",
       "  <thead>\n",
       "    <tr style=\"text-align: right;\">\n",
       "      <th></th>\n",
       "      <th>ID</th>\n",
       "      <th>word_freq_make</th>\n",
       "      <th>word_freq_address</th>\n",
       "      <th>word_freq_all</th>\n",
       "      <th>word_freq_3d</th>\n",
       "      <th>word_freq_our</th>\n",
       "      <th>word_freq_over</th>\n",
       "      <th>word_freq_remove</th>\n",
       "      <th>word_freq_internet</th>\n",
       "      <th>word_freq_order</th>\n",
       "      <th>...</th>\n",
       "      <th>char_freq_;</th>\n",
       "      <th>char_freq_(</th>\n",
       "      <th>char_freq_[</th>\n",
       "      <th>char_freq_!</th>\n",
       "      <th>char_freq_$</th>\n",
       "      <th>char_freq_#</th>\n",
       "      <th>capital_run_length_average</th>\n",
       "      <th>capital_run_length_longest</th>\n",
       "      <th>capital_run_length_total</th>\n",
       "      <th>is_spam</th>\n",
       "    </tr>\n",
       "  </thead>\n",
       "  <tbody>\n",
       "    <tr>\n",
       "      <th>0</th>\n",
       "      <td>0</td>\n",
       "      <td>0.00</td>\n",
       "      <td>0.64</td>\n",
       "      <td>0.64</td>\n",
       "      <td>0.0</td>\n",
       "      <td>0.32</td>\n",
       "      <td>0.00</td>\n",
       "      <td>0.00</td>\n",
       "      <td>0.00</td>\n",
       "      <td>0.00</td>\n",
       "      <td>...</td>\n",
       "      <td>0.00</td>\n",
       "      <td>0.000</td>\n",
       "      <td>0.0</td>\n",
       "      <td>0.778</td>\n",
       "      <td>0.000</td>\n",
       "      <td>0.000</td>\n",
       "      <td>3.756</td>\n",
       "      <td>61</td>\n",
       "      <td>278</td>\n",
       "      <td>True</td>\n",
       "    </tr>\n",
       "    <tr>\n",
       "      <th>1</th>\n",
       "      <td>1</td>\n",
       "      <td>0.21</td>\n",
       "      <td>0.28</td>\n",
       "      <td>0.50</td>\n",
       "      <td>0.0</td>\n",
       "      <td>0.14</td>\n",
       "      <td>0.28</td>\n",
       "      <td>0.21</td>\n",
       "      <td>0.07</td>\n",
       "      <td>0.00</td>\n",
       "      <td>...</td>\n",
       "      <td>0.00</td>\n",
       "      <td>0.132</td>\n",
       "      <td>0.0</td>\n",
       "      <td>0.372</td>\n",
       "      <td>0.180</td>\n",
       "      <td>0.048</td>\n",
       "      <td>5.114</td>\n",
       "      <td>101</td>\n",
       "      <td>1028</td>\n",
       "      <td>True</td>\n",
       "    </tr>\n",
       "    <tr>\n",
       "      <th>2</th>\n",
       "      <td>2</td>\n",
       "      <td>0.06</td>\n",
       "      <td>0.00</td>\n",
       "      <td>0.71</td>\n",
       "      <td>0.0</td>\n",
       "      <td>1.23</td>\n",
       "      <td>0.19</td>\n",
       "      <td>0.19</td>\n",
       "      <td>0.12</td>\n",
       "      <td>0.64</td>\n",
       "      <td>...</td>\n",
       "      <td>0.01</td>\n",
       "      <td>0.143</td>\n",
       "      <td>0.0</td>\n",
       "      <td>0.276</td>\n",
       "      <td>0.184</td>\n",
       "      <td>0.010</td>\n",
       "      <td>9.821</td>\n",
       "      <td>485</td>\n",
       "      <td>2259</td>\n",
       "      <td>True</td>\n",
       "    </tr>\n",
       "    <tr>\n",
       "      <th>3</th>\n",
       "      <td>3</td>\n",
       "      <td>0.00</td>\n",
       "      <td>0.00</td>\n",
       "      <td>0.00</td>\n",
       "      <td>0.0</td>\n",
       "      <td>0.63</td>\n",
       "      <td>0.00</td>\n",
       "      <td>0.31</td>\n",
       "      <td>0.63</td>\n",
       "      <td>0.31</td>\n",
       "      <td>...</td>\n",
       "      <td>0.00</td>\n",
       "      <td>0.137</td>\n",
       "      <td>0.0</td>\n",
       "      <td>0.137</td>\n",
       "      <td>0.000</td>\n",
       "      <td>0.000</td>\n",
       "      <td>3.537</td>\n",
       "      <td>40</td>\n",
       "      <td>191</td>\n",
       "      <td>True</td>\n",
       "    </tr>\n",
       "    <tr>\n",
       "      <th>4</th>\n",
       "      <td>4</td>\n",
       "      <td>0.00</td>\n",
       "      <td>0.00</td>\n",
       "      <td>0.00</td>\n",
       "      <td>0.0</td>\n",
       "      <td>0.63</td>\n",
       "      <td>0.00</td>\n",
       "      <td>0.31</td>\n",
       "      <td>0.63</td>\n",
       "      <td>0.31</td>\n",
       "      <td>...</td>\n",
       "      <td>0.00</td>\n",
       "      <td>0.135</td>\n",
       "      <td>0.0</td>\n",
       "      <td>0.135</td>\n",
       "      <td>0.000</td>\n",
       "      <td>0.000</td>\n",
       "      <td>3.537</td>\n",
       "      <td>40</td>\n",
       "      <td>191</td>\n",
       "      <td>True</td>\n",
       "    </tr>\n",
       "  </tbody>\n",
       "</table>\n",
       "<p>5 rows × 59 columns</p>\n",
       "</div>"
      ],
      "text/plain": [
       "   ID  word_freq_make  word_freq_address  word_freq_all  word_freq_3d  \\\n",
       "0   0            0.00               0.64           0.64           0.0   \n",
       "1   1            0.21               0.28           0.50           0.0   \n",
       "2   2            0.06               0.00           0.71           0.0   \n",
       "3   3            0.00               0.00           0.00           0.0   \n",
       "4   4            0.00               0.00           0.00           0.0   \n",
       "\n",
       "  word_freq_our  word_freq_over  word_freq_remove  word_freq_internet  \\\n",
       "0          0.32            0.00              0.00                0.00   \n",
       "1          0.14            0.28              0.21                0.07   \n",
       "2          1.23            0.19              0.19                0.12   \n",
       "3          0.63            0.00              0.31                0.63   \n",
       "4          0.63            0.00              0.31                0.63   \n",
       "\n",
       "   word_freq_order  ...  char_freq_;  char_freq_(  char_freq_[  char_freq_!  \\\n",
       "0             0.00  ...         0.00        0.000          0.0        0.778   \n",
       "1             0.00  ...         0.00        0.132          0.0        0.372   \n",
       "2             0.64  ...         0.01        0.143          0.0        0.276   \n",
       "3             0.31  ...         0.00        0.137          0.0        0.137   \n",
       "4             0.31  ...         0.00        0.135          0.0        0.135   \n",
       "\n",
       "   char_freq_$  char_freq_#  capital_run_length_average  \\\n",
       "0        0.000        0.000                       3.756   \n",
       "1        0.180        0.048                       5.114   \n",
       "2        0.184        0.010                       9.821   \n",
       "3        0.000        0.000                       3.537   \n",
       "4        0.000        0.000                       3.537   \n",
       "\n",
       "   capital_run_length_longest  capital_run_length_total  is_spam  \n",
       "0                          61                       278     True  \n",
       "1                         101                      1028     True  \n",
       "2                         485                      2259     True  \n",
       "3                          40                       191     True  \n",
       "4                          40                       191     True  \n",
       "\n",
       "[5 rows x 59 columns]"
      ]
     },
     "execution_count": 23,
     "metadata": {},
     "output_type": "execute_result"
    }
   ],
   "source": [
    "df.head()"
   ]
  },
  {
   "cell_type": "markdown",
   "id": "96c8fcd5-aefb-4f03-b878-87c7c409bb14",
   "metadata": {},
   "source": [
    "I decided to remove column \"ID\" because this column is not relevant"
   ]
  },
  {
   "cell_type": "code",
   "execution_count": 24,
   "id": "09842bc2-446d-4e70-900e-9b89c2081939",
   "metadata": {},
   "outputs": [],
   "source": [
    "df = df.drop([\"ID\"],axis=1)"
   ]
  },
  {
   "cell_type": "code",
   "execution_count": 25,
   "id": "da1dc1a1-b318-4dff-b120-ce581d17d46b",
   "metadata": {},
   "outputs": [
    {
     "data": {
      "text/html": [
       "<div>\n",
       "<style scoped>\n",
       "    .dataframe tbody tr th:only-of-type {\n",
       "        vertical-align: middle;\n",
       "    }\n",
       "\n",
       "    .dataframe tbody tr th {\n",
       "        vertical-align: top;\n",
       "    }\n",
       "\n",
       "    .dataframe thead th {\n",
       "        text-align: right;\n",
       "    }\n",
       "</style>\n",
       "<table border=\"1\" class=\"dataframe\">\n",
       "  <thead>\n",
       "    <tr style=\"text-align: right;\">\n",
       "      <th></th>\n",
       "      <th>word_freq_make</th>\n",
       "      <th>word_freq_address</th>\n",
       "      <th>word_freq_all</th>\n",
       "      <th>word_freq_3d</th>\n",
       "      <th>word_freq_our</th>\n",
       "      <th>word_freq_over</th>\n",
       "      <th>word_freq_remove</th>\n",
       "      <th>word_freq_internet</th>\n",
       "      <th>word_freq_order</th>\n",
       "      <th>word_freq_mail</th>\n",
       "      <th>...</th>\n",
       "      <th>char_freq_;</th>\n",
       "      <th>char_freq_(</th>\n",
       "      <th>char_freq_[</th>\n",
       "      <th>char_freq_!</th>\n",
       "      <th>char_freq_$</th>\n",
       "      <th>char_freq_#</th>\n",
       "      <th>capital_run_length_average</th>\n",
       "      <th>capital_run_length_longest</th>\n",
       "      <th>capital_run_length_total</th>\n",
       "      <th>is_spam</th>\n",
       "    </tr>\n",
       "  </thead>\n",
       "  <tbody>\n",
       "    <tr>\n",
       "      <th>0</th>\n",
       "      <td>0.00</td>\n",
       "      <td>0.64</td>\n",
       "      <td>0.64</td>\n",
       "      <td>0.0</td>\n",
       "      <td>0.32</td>\n",
       "      <td>0.00</td>\n",
       "      <td>0.00</td>\n",
       "      <td>0.00</td>\n",
       "      <td>0.00</td>\n",
       "      <td>0.00</td>\n",
       "      <td>...</td>\n",
       "      <td>0.00</td>\n",
       "      <td>0.000</td>\n",
       "      <td>0.0</td>\n",
       "      <td>0.778</td>\n",
       "      <td>0.000</td>\n",
       "      <td>0.000</td>\n",
       "      <td>3.756</td>\n",
       "      <td>61</td>\n",
       "      <td>278</td>\n",
       "      <td>True</td>\n",
       "    </tr>\n",
       "    <tr>\n",
       "      <th>1</th>\n",
       "      <td>0.21</td>\n",
       "      <td>0.28</td>\n",
       "      <td>0.50</td>\n",
       "      <td>0.0</td>\n",
       "      <td>0.14</td>\n",
       "      <td>0.28</td>\n",
       "      <td>0.21</td>\n",
       "      <td>0.07</td>\n",
       "      <td>0.00</td>\n",
       "      <td>0.94</td>\n",
       "      <td>...</td>\n",
       "      <td>0.00</td>\n",
       "      <td>0.132</td>\n",
       "      <td>0.0</td>\n",
       "      <td>0.372</td>\n",
       "      <td>0.180</td>\n",
       "      <td>0.048</td>\n",
       "      <td>5.114</td>\n",
       "      <td>101</td>\n",
       "      <td>1028</td>\n",
       "      <td>True</td>\n",
       "    </tr>\n",
       "    <tr>\n",
       "      <th>2</th>\n",
       "      <td>0.06</td>\n",
       "      <td>0.00</td>\n",
       "      <td>0.71</td>\n",
       "      <td>0.0</td>\n",
       "      <td>1.23</td>\n",
       "      <td>0.19</td>\n",
       "      <td>0.19</td>\n",
       "      <td>0.12</td>\n",
       "      <td>0.64</td>\n",
       "      <td>0.25</td>\n",
       "      <td>...</td>\n",
       "      <td>0.01</td>\n",
       "      <td>0.143</td>\n",
       "      <td>0.0</td>\n",
       "      <td>0.276</td>\n",
       "      <td>0.184</td>\n",
       "      <td>0.010</td>\n",
       "      <td>9.821</td>\n",
       "      <td>485</td>\n",
       "      <td>2259</td>\n",
       "      <td>True</td>\n",
       "    </tr>\n",
       "    <tr>\n",
       "      <th>3</th>\n",
       "      <td>0.00</td>\n",
       "      <td>0.00</td>\n",
       "      <td>0.00</td>\n",
       "      <td>0.0</td>\n",
       "      <td>0.63</td>\n",
       "      <td>0.00</td>\n",
       "      <td>0.31</td>\n",
       "      <td>0.63</td>\n",
       "      <td>0.31</td>\n",
       "      <td>0.63</td>\n",
       "      <td>...</td>\n",
       "      <td>0.00</td>\n",
       "      <td>0.137</td>\n",
       "      <td>0.0</td>\n",
       "      <td>0.137</td>\n",
       "      <td>0.000</td>\n",
       "      <td>0.000</td>\n",
       "      <td>3.537</td>\n",
       "      <td>40</td>\n",
       "      <td>191</td>\n",
       "      <td>True</td>\n",
       "    </tr>\n",
       "    <tr>\n",
       "      <th>4</th>\n",
       "      <td>0.00</td>\n",
       "      <td>0.00</td>\n",
       "      <td>0.00</td>\n",
       "      <td>0.0</td>\n",
       "      <td>0.63</td>\n",
       "      <td>0.00</td>\n",
       "      <td>0.31</td>\n",
       "      <td>0.63</td>\n",
       "      <td>0.31</td>\n",
       "      <td>0.63</td>\n",
       "      <td>...</td>\n",
       "      <td>0.00</td>\n",
       "      <td>0.135</td>\n",
       "      <td>0.0</td>\n",
       "      <td>0.135</td>\n",
       "      <td>0.000</td>\n",
       "      <td>0.000</td>\n",
       "      <td>3.537</td>\n",
       "      <td>40</td>\n",
       "      <td>191</td>\n",
       "      <td>True</td>\n",
       "    </tr>\n",
       "  </tbody>\n",
       "</table>\n",
       "<p>5 rows × 58 columns</p>\n",
       "</div>"
      ],
      "text/plain": [
       "   word_freq_make  word_freq_address  word_freq_all  word_freq_3d  \\\n",
       "0            0.00               0.64           0.64           0.0   \n",
       "1            0.21               0.28           0.50           0.0   \n",
       "2            0.06               0.00           0.71           0.0   \n",
       "3            0.00               0.00           0.00           0.0   \n",
       "4            0.00               0.00           0.00           0.0   \n",
       "\n",
       "  word_freq_our  word_freq_over  word_freq_remove  word_freq_internet  \\\n",
       "0          0.32            0.00              0.00                0.00   \n",
       "1          0.14            0.28              0.21                0.07   \n",
       "2          1.23            0.19              0.19                0.12   \n",
       "3          0.63            0.00              0.31                0.63   \n",
       "4          0.63            0.00              0.31                0.63   \n",
       "\n",
       "   word_freq_order  word_freq_mail  ...  char_freq_;  char_freq_(  \\\n",
       "0             0.00            0.00  ...         0.00        0.000   \n",
       "1             0.00            0.94  ...         0.00        0.132   \n",
       "2             0.64            0.25  ...         0.01        0.143   \n",
       "3             0.31            0.63  ...         0.00        0.137   \n",
       "4             0.31            0.63  ...         0.00        0.135   \n",
       "\n",
       "   char_freq_[  char_freq_!  char_freq_$  char_freq_#  \\\n",
       "0          0.0        0.778        0.000        0.000   \n",
       "1          0.0        0.372        0.180        0.048   \n",
       "2          0.0        0.276        0.184        0.010   \n",
       "3          0.0        0.137        0.000        0.000   \n",
       "4          0.0        0.135        0.000        0.000   \n",
       "\n",
       "   capital_run_length_average  capital_run_length_longest  \\\n",
       "0                       3.756                          61   \n",
       "1                       5.114                         101   \n",
       "2                       9.821                         485   \n",
       "3                       3.537                          40   \n",
       "4                       3.537                          40   \n",
       "\n",
       "   capital_run_length_total  is_spam  \n",
       "0                       278     True  \n",
       "1                      1028     True  \n",
       "2                      2259     True  \n",
       "3                       191     True  \n",
       "4                       191     True  \n",
       "\n",
       "[5 rows x 58 columns]"
      ]
     },
     "execution_count": 25,
     "metadata": {},
     "output_type": "execute_result"
    }
   ],
   "source": [
    "df.head()"
   ]
  },
  {
   "cell_type": "code",
   "execution_count": 26,
   "id": "389ac704-45ae-4d4f-b10b-1353e4263753",
   "metadata": {},
   "outputs": [
    {
     "data": {
      "text/plain": [
       "(4601, 58)"
      ]
     },
     "execution_count": 26,
     "metadata": {},
     "output_type": "execute_result"
    }
   ],
   "source": [
    "df.shape"
   ]
  },
  {
   "cell_type": "markdown",
   "id": "cbe55b46-47ba-49fc-b777-bec56fc33ff9",
   "metadata": {},
   "source": [
    "Number of columns decreased from 59 to 58)"
   ]
  },
  {
   "cell_type": "code",
   "execution_count": 27,
   "id": "151d1754-022d-44a2-8448-b642cbb5253b",
   "metadata": {},
   "outputs": [],
   "source": [
    "import seaborn as sns"
   ]
  },
  {
   "cell_type": "code",
   "execution_count": 31,
   "id": "1c926050-7ab9-47ad-b93e-67af7088d188",
   "metadata": {},
   "outputs": [
    {
     "name": "stdout",
     "output_type": "stream",
     "text": [
      "<class 'pandas.core.frame.DataFrame'>\n",
      "RangeIndex: 4601 entries, 0 to 4600\n",
      "Data columns (total 58 columns):\n",
      " #   Column                      Non-Null Count  Dtype  \n",
      "---  ------                      --------------  -----  \n",
      " 0   word_freq_make              4601 non-null   float64\n",
      " 1   word_freq_address           4601 non-null   float64\n",
      " 2   word_freq_all               4595 non-null   float64\n",
      " 3   word_freq_3d                4599 non-null   float64\n",
      " 4   word_freq_our               4601 non-null   object \n",
      " 5   word_freq_over              4600 non-null   float64\n",
      " 6   word_freq_remove            4601 non-null   float64\n",
      " 7   word_freq_internet          4586 non-null   float64\n",
      " 8   word_freq_order             4601 non-null   float64\n",
      " 9   word_freq_mail              4601 non-null   float64\n",
      " 10  word_freq_receive           4601 non-null   float64\n",
      " 11  word_freq_will              4601 non-null   float64\n",
      " 12  word_freq_people            4601 non-null   float64\n",
      " 13  word_freq_report            4601 non-null   float64\n",
      " 14  word_freq_addresses         4592 non-null   float64\n",
      " 15  word_freq_free              4601 non-null   float64\n",
      " 16  word_freq_business          4601 non-null   float64\n",
      " 17  word_freq_email             4601 non-null   float64\n",
      " 18  word_freq_you               4601 non-null   float64\n",
      " 19  word_freq_credit            4601 non-null   float64\n",
      " 20  word_freq_your              4601 non-null   float64\n",
      " 21  word_freq_font              4601 non-null   float64\n",
      " 22  word_freq_000               4601 non-null   object \n",
      " 23  word_freq_money             4601 non-null   float64\n",
      " 24  word_freq_hp                4601 non-null   float64\n",
      " 25  word_freq_hpl               4601 non-null   object \n",
      " 26  word_freq_george            4601 non-null   float64\n",
      " 27  word_freq_650               4601 non-null   float64\n",
      " 28  word_freq_lab               4601 non-null   float64\n",
      " 29  word_freq_labs              4351 non-null   object \n",
      " 30  word_freq_telnet            4601 non-null   float64\n",
      " 31  word_freq_857               4601 non-null   float64\n",
      " 32  word_freq_data              4601 non-null   float64\n",
      " 33  word_freq_415               4601 non-null   float64\n",
      " 34  word_freq_85                4601 non-null   float64\n",
      " 35  word_freq_technology        4601 non-null   float64\n",
      " 36  word_freq_1999              4601 non-null   float64\n",
      " 37  word_freq_parts             4601 non-null   float64\n",
      " 38  word_freq_pm                4601 non-null   float64\n",
      " 39  word_freq_direct            4598 non-null   float64\n",
      " 40  word_freq_cs                4587 non-null   float64\n",
      " 41  word_freq_meeting           4600 non-null   float64\n",
      " 42  word_freq_original          4601 non-null   float64\n",
      " 43  word_freq_project           4601 non-null   float64\n",
      " 44  word_freq_re                4601 non-null   float64\n",
      " 45  word_freq_edu               4601 non-null   float64\n",
      " 46  word_freq_table             4561 non-null   float64\n",
      " 47  word_freq_conference        4601 non-null   float64\n",
      " 48  char_freq_;                 4601 non-null   float64\n",
      " 49  char_freq_(                 4601 non-null   float64\n",
      " 50  char_freq_[                 4601 non-null   float64\n",
      " 51  char_freq_!                 4601 non-null   float64\n",
      " 52  char_freq_$                 4601 non-null   float64\n",
      " 53  char_freq_#                 4601 non-null   float64\n",
      " 54  capital_run_length_average  4601 non-null   float64\n",
      " 55  capital_run_length_longest  4601 non-null   int64  \n",
      " 56  capital_run_length_total    4601 non-null   int64  \n",
      " 57  is_spam                     4601 non-null   bool   \n",
      "dtypes: bool(1), float64(51), int64(2), object(4)\n",
      "memory usage: 2.0+ MB\n"
     ]
    }
   ],
   "source": [
    "df.info()"
   ]
  },
  {
   "cell_type": "code",
   "execution_count": 30,
   "id": "d35f5fe5-89c5-4305-b126-1d2dc9b8d77f",
   "metadata": {},
   "outputs": [
    {
     "data": {
      "text/plain": [
       "word_freq_make                  0\n",
       "word_freq_address               0\n",
       "word_freq_all                   6\n",
       "word_freq_3d                    2\n",
       "word_freq_our                   0\n",
       "word_freq_over                  1\n",
       "word_freq_remove                0\n",
       "word_freq_internet             15\n",
       "word_freq_order                 0\n",
       "word_freq_mail                  0\n",
       "word_freq_receive               0\n",
       "word_freq_will                  0\n",
       "word_freq_people                0\n",
       "word_freq_report                0\n",
       "word_freq_addresses             9\n",
       "word_freq_free                  0\n",
       "word_freq_business              0\n",
       "word_freq_email                 0\n",
       "word_freq_you                   0\n",
       "word_freq_credit                0\n",
       "word_freq_your                  0\n",
       "word_freq_font                  0\n",
       "word_freq_000                   0\n",
       "word_freq_money                 0\n",
       "word_freq_hp                    0\n",
       "word_freq_hpl                   0\n",
       "word_freq_george                0\n",
       "word_freq_650                   0\n",
       "word_freq_lab                   0\n",
       "word_freq_labs                250\n",
       "word_freq_telnet                0\n",
       "word_freq_857                   0\n",
       "word_freq_data                  0\n",
       "word_freq_415                   0\n",
       "word_freq_85                    0\n",
       "word_freq_technology            0\n",
       "word_freq_1999                  0\n",
       "word_freq_parts                 0\n",
       "word_freq_pm                    0\n",
       "word_freq_direct                3\n",
       "word_freq_cs                   14\n",
       "word_freq_meeting               1\n",
       "word_freq_original              0\n",
       "word_freq_project               0\n",
       "word_freq_re                    0\n",
       "word_freq_edu                   0\n",
       "word_freq_table                40\n",
       "word_freq_conference            0\n",
       "char_freq_;                     0\n",
       "char_freq_(                     0\n",
       "char_freq_[                     0\n",
       "char_freq_!                     0\n",
       "char_freq_$                     0\n",
       "char_freq_#                     0\n",
       "capital_run_length_average      0\n",
       "capital_run_length_longest      0\n",
       "capital_run_length_total        0\n",
       "is_spam                         0\n",
       "dtype: int64"
      ]
     },
     "execution_count": 30,
     "metadata": {},
     "output_type": "execute_result"
    }
   ],
   "source": [
    "df.isnull().sum()"
   ]
  },
  {
   "cell_type": "markdown",
   "id": "2720e6ff-4829-42b2-8648-faba09bffd3e",
   "metadata": {},
   "source": [
    "Using this formula (df.isnull().sum()) I got information about missing data"
   ]
  },
  {
   "cell_type": "code",
   "execution_count": 32,
   "id": "8a3dfd6d-fd82-4152-bdf7-2328b1c8445d",
   "metadata": {},
   "outputs": [
    {
     "data": {
      "text/plain": [
       "array([0.64, 0.5 , 0.71, 0.  , 0.46, 0.77, 0.25, 0.34, 1.42, 0.42, 0.55,\n",
       "       0.1 , 3.03, 2.56, 0.48, 1.66, 1.05, 0.18, 0.99, 0.26, 1.09, 0.73,\n",
       "       1.26, 0.45, 1.68, 0.47, 0.12, 0.66, 0.61, 0.53, 0.89, 0.94, 1.77,\n",
       "       0.37, 0.2 , 0.23, 0.72, 1.28, 0.38, 1.12, 0.29, 0.7 , 0.43, 1.24,\n",
       "       0.76, 0.63, 1.02, 0.4 , 0.8 , 0.67, 0.41, 0.39, 0.33, 1.38, 0.27,\n",
       "       0.56, 0.62, 0.68, 0.35, 2.38, 0.08, 1.  , 0.54, 1.32, 0.87, 1.08,\n",
       "       1.07, 1.31, 0.22, 0.15, 0.52, 0.32, 0.16, 1.1 , 0.65, 1.43, 0.81,\n",
       "       0.69, 0.58, 0.57, 0.14, 0.6 , 0.85, 1.63, 0.86, 0.17, 1.53, 1.29,\n",
       "       0.19, 0.05, 1.45, 1.34, 1.35, 1.22, 0.31, 0.36, 1.33, 0.93, 0.59,\n",
       "       0.11, 1.16, 0.03, 0.51, 0.49, 1.56, 1.11, 0.91, 1.44, 0.88, 1.92,\n",
       "       0.09, 0.24, 1.25, 0.3 , 1.18, 0.28, 1.81, 0.84, 0.78, 0.75, 0.13,\n",
       "       1.01, 0.9 , 1.47, 0.44, 0.98, 1.72, 1.23, 1.7 , 2.22, 1.65, 1.64,\n",
       "       0.74, 0.95, 0.82, 0.97, 1.5 , 1.51, 1.17, 0.92, 1.13, 2.99, 0.04,\n",
       "       1.62, 1.58, 1.9 , 1.83, 1.85, 1.61, 1.4 , 1.19, 1.79, 1.97, 1.06,\n",
       "       1.15, 1.14, 2.5 , 0.79, 1.04, 1.21, 0.96, 3.7 , 0.21, 1.55, 1.78,\n",
       "       1.2 , 3.48, 0.83, 1.03, 2.15, 2.43, 2.34, 1.88, 2.12, 4.  , 0.06,\n",
       "       2.  , 1.96, 1.94, 2.24, 3.84, 0.07, 3.79, 2.41, 1.46, 2.25, 2.91,\n",
       "       3.22, 1.49, 2.04, 3.44, 1.36, 2.27, 5.1 , 3.38, 3.57, 1.6 , 2.17,\n",
       "       2.63, 2.94, 2.32, 1.69,  nan, 2.08, 4.34, 3.  , 1.57, 1.39, 1.98,\n",
       "       3.61, 2.09, 2.77, 4.54, 2.06, 2.35])"
      ]
     },
     "execution_count": 32,
     "metadata": {},
     "output_type": "execute_result"
    }
   ],
   "source": [
    "df[\"word_freq_all\"].unique()"
   ]
  },
  {
   "cell_type": "markdown",
   "id": "1faa23b4-f3bb-4b5a-a3f4-93013cf82cf3",
   "metadata": {},
   "source": [
    "Column word_freq_all : 6 missing data and no malformed values"
   ]
  },
  {
   "cell_type": "code",
   "execution_count": 33,
   "id": "abd32eda-fa55-4b0c-b36f-0b22f8499a86",
   "metadata": {},
   "outputs": [
    {
     "data": {
      "text/plain": [
       "array([0.000e+00, 5.200e-01, 1.600e-01, 1.900e-01, 4.200e-01, 9.500e-01,\n",
       "       1.700e-01, 5.030e+00, 7.180e+00, 1.363e+01, 8.100e-01, 1.160e+00,\n",
       "       1.260e+00, 1.000e-01, 4.900e-01, 1.910e+00, 4.013e+01, 9.100e-01,\n",
       "       9.160e+00, 4.310e+00, 4.281e+01, 1.916e+01, 6.000e-02, 3.546e+01,\n",
       "       4.273e+01, 5.800e-01, 4.400e-01, 7.070e+00, 1.330e+00, 1.290e+00,\n",
       "       2.100e-01, 1.973e+01, 5.700e-01, 6.000e-01, 4.000e-02, 1.350e+00,\n",
       "       1.100e-01, 1.400e-01, 1.500e-01, 8.700e-01, 1.300e-01, 5.500e-01,\n",
       "             nan, 3.100e-01])"
      ]
     },
     "execution_count": 33,
     "metadata": {},
     "output_type": "execute_result"
    }
   ],
   "source": [
    "df[\"word_freq_3d\"].unique()"
   ]
  },
  {
   "cell_type": "markdown",
   "id": "fbacae8d-fa15-4b3b-b056-7025cefaa95d",
   "metadata": {},
   "source": [
    "Column word_freq_3d : 2 missing data (nan) and no malformed values"
   ]
  },
  {
   "cell_type": "code",
   "execution_count": 34,
   "id": "562f6ad3-8039-47c0-85ce-7ab1db192d33",
   "metadata": {},
   "outputs": [
    {
     "data": {
      "text/plain": [
       "array([0.  , 0.28, 0.19, 0.32, 0.25, 0.35, 0.31, 0.05, 0.27, 0.92, 0.36,\n",
       "       0.99, 0.12, 0.33, 0.73, 1.26,  nan, 0.46, 0.2 , 1.28, 0.76, 0.13,\n",
       "       0.03, 0.6 , 0.64, 0.79, 0.16, 0.41, 0.4 , 0.66, 0.81, 0.39, 0.45,\n",
       "       0.85, 0.29, 0.08, 0.78, 0.43, 0.87, 0.53, 0.56, 0.22, 0.42, 0.62,\n",
       "       0.65, 0.54, 0.55, 1.12, 2.3 , 0.57, 0.1 , 0.17, 0.94, 0.7 , 0.18,\n",
       "       0.34, 0.93, 0.51, 0.74, 0.44, 1.02, 0.48, 0.68, 0.11, 1.2 , 0.09,\n",
       "       0.47, 0.61, 2.1 , 0.3 , 1.05, 1.29, 1.01, 0.84, 0.38, 0.98, 0.86,\n",
       "       1.88, 1.32, 0.8 , 1.27, 1.1 , 0.23, 0.24, 0.15, 0.95, 0.63, 0.58,\n",
       "       0.71, 0.37, 0.21, 0.67, 0.72, 1.14, 0.04, 0.5 , 0.14, 0.69, 0.91,\n",
       "       0.9 , 0.59, 1.47, 1.61, 0.52, 1.25, 1.09, 1.86, 2.54, 0.77, 0.26,\n",
       "       0.49, 1.49, 1.36, 1.4 , 1.21, 1.64, 1.04, 1.06, 1.11, 0.96, 2.43,\n",
       "       0.06, 2.94, 0.75, 0.01, 0.07, 1.34, 0.02, 0.82, 1.19, 1.  , 1.07,\n",
       "       2.63, 1.03, 5.88, 1.63, 3.44, 1.17, 0.89, 3.57, 1.57, 1.42])"
      ]
     },
     "execution_count": 34,
     "metadata": {},
     "output_type": "execute_result"
    }
   ],
   "source": [
    "df[\"word_freq_over\"].unique()"
   ]
  },
  {
   "cell_type": "markdown",
   "id": "a56c39f6-0366-414b-9ece-13046c3d5e40",
   "metadata": {},
   "source": [
    "Column word_freq_over : 1 missing data (nan) and no malformed values"
   ]
  },
  {
   "cell_type": "code",
   "execution_count": 35,
   "id": "0ffbc265-7b85-4c7e-9a24-a3d3373fbe7f",
   "metadata": {},
   "outputs": [
    {
     "data": {
      "text/plain": [
       "array([0.000e+00, 7.000e-02, 1.200e-01, 6.300e-01, 1.850e+00, 1.880e+00,\n",
       "       3.500e-01,       nan, 2.000e-02, 2.450e+00, 5.200e-01, 1.810e+00,\n",
       "       6.000e-02, 2.800e-01, 3.300e-01, 1.090e+00, 1.100e+00, 9.300e-01,\n",
       "       3.600e-01, 1.260e+00, 2.500e-01, 1.450e+00, 1.860e+00, 2.600e-01,\n",
       "       1.400e-01, 4.600e-01, 5.000e-01, 5.000e-02, 1.280e+00, 1.900e-01,\n",
       "       8.400e-01, 1.200e+00, 4.000e-01, 2.980e+00, 1.310e+00, 2.900e-01,\n",
       "       4.200e-01, 2.340e+00, 2.040e+00, 1.120e+00, 4.500e-01, 4.400e-01,\n",
       "       1.700e-01, 1.300e-01, 3.200e-01, 5.900e-01, 4.300e-01, 2.240e+00,\n",
       "       7.100e-01, 2.700e-01, 6.000e-01, 6.200e-01, 8.900e-01, 2.300e-01,\n",
       "       1.050e+00, 6.400e-01, 1.800e-01, 1.410e+00, 3.400e-01, 3.700e-01,\n",
       "       6.700e-01, 1.290e+00, 9.100e-01, 8.000e-02, 2.020e+00, 1.100e-01,\n",
       "       5.800e-01, 1.360e+00, 2.100e-01, 1.070e+00, 4.800e-01, 2.530e+00,\n",
       "       1.080e+00, 4.700e-01, 5.300e-01, 4.900e-01, 3.330e+00, 2.960e+00,\n",
       "       2.820e+00, 4.620e+00, 2.000e-01, 1.000e-01, 5.700e-01, 1.160e+00,\n",
       "       5.500e-01, 8.200e-01, 3.630e+00, 6.600e-01, 1.600e-01, 3.120e+00,\n",
       "       1.500e-01, 2.400e-01, 8.600e-01, 2.940e+00, 9.700e-01, 1.650e+00,\n",
       "       9.000e-02, 6.800e-01, 3.100e-01, 1.470e+00, 9.200e-01, 5.600e-01,\n",
       "       4.000e-02, 1.010e+00, 7.400e-01, 8.000e-01, 9.800e-01, 9.900e-01,\n",
       "       1.580e+00, 3.800e-01, 3.900e-01, 2.380e+00, 5.100e-01, 7.900e-01,\n",
       "       2.200e+00, 2.500e+00, 1.300e+00, 3.000e-01, 1.030e+00, 1.040e+00,\n",
       "       6.500e-01, 1.140e+00, 5.400e-01, 1.250e+00, 9.500e-01, 1.400e+00,\n",
       "       1.190e+00, 1.210e+00, 1.390e+00, 1.620e+00, 6.060e+00, 3.000e-02,\n",
       "       1.330e+00, 1.610e+00, 1.110e+00, 7.200e-01, 1.460e+00, 1.600e+00,\n",
       "       1.240e+00, 3.570e+00, 4.000e+00, 8.300e-01, 2.950e+00, 2.800e+00,\n",
       "       6.100e-01, 7.300e-01, 1.060e+00, 4.100e-01, 1.111e+01, 8.500e-01,\n",
       "       1.370e+00, 2.200e-01, 3.190e+00, 1.350e+00, 1.000e+00, 1.780e+00,\n",
       "       7.700e-01, 1.270e+00, 1.170e+00, 1.000e-02, 8.800e-01, 1.570e+00,\n",
       "       2.220e+00, 1.320e+00, 2.070e+00, 2.630e+00, 3.970e+00, 5.880e+00,\n",
       "       3.040e+00, 4.230e+00, 4.680e+00])"
      ]
     },
     "execution_count": 35,
     "metadata": {},
     "output_type": "execute_result"
    }
   ],
   "source": [
    "df[\"word_freq_internet\"].unique()"
   ]
  },
  {
   "cell_type": "markdown",
   "id": "3d6cc18e-e672-448f-ad40-51a1491d014b",
   "metadata": {},
   "source": [
    "Column word_freq_internet : 15 missing data (nan) and no malformed values"
   ]
  },
  {
   "cell_type": "code",
   "execution_count": 36,
   "id": "e26c3140-458b-4f55-a4c2-b4057248c71e",
   "metadata": {},
   "outputs": [
    {
     "data": {
      "text/plain": [
       "array([nan, '0.39', '0', '0.06', '0.66', '2.24', '0.24', '3.38', '0.97',\n",
       "       '0.86', '0.62', '0.17', '0.11', '0.12', '0.1', '0.18', '2.04',\n",
       "       '0.73', '0.58', '1.44', '0.26', '2.7', '3.57', '0.3', '2.77',\n",
       "       '0.46', '1', '0.14', '2.17', '0.31', '0.32', '0.08', '1.06', '2',\n",
       "       '0.89', '1.73', '0.42', '1.96', '0.48', '1.66', '0.52', '4.54',\n",
       "       '0.54', '0.27', '0.9', '1.52', '1.02', '0.15', '0.55', '0.28',\n",
       "       '1.33', '0.35', '1.11', '1.31', '0.44', '0.34', '0.93', '0.68',\n",
       "       '0.25', '0.16', '0.07', '1.85', '0.82', '0.05', '1.81', '0.74',\n",
       "       '0.91', '0.57', '0.51', '0.72', '0.5', '0.99', '0.96', '2.32',\n",
       "       '0.21', '1.19', '1.08', '1.26', '1.38', '0.22', '0.09', '4.16',\n",
       "       '1.17', '0.33', '0.63', '1.03', '1.23', '1.84', '0.2', '2.27',\n",
       "       '0.87', '3.22', '0.61', '0.19', '0.45', '2.29', '0.53', '0.37',\n",
       "       '1.28', '0.84', '0.75', '1.29', '0.38', '0.77', '1.58', '0.23',\n",
       "       '4.76', '2.45', '0.7', '0.56', '2.19', '0.78', '0.92', '1.42',\n",
       "       '1.14', '0.49', '0.64', '1.53', '0.59', '0.13', '0.4', '1.16',\n",
       "       '1.12', '0.67', '1.7', '0.65', '1.01', '4.34', '2.11', '0.88',\n",
       "       '1.87', '0.47', '2.79', '3.12', '0.29', '1.56', '1.43', '2.63',\n",
       "       '1.61', '3.73', '1.65', '1.72', '0.8', 'no', '1.07', '1.47',\n",
       "       '1.13', '1.78', '2.98', '5.88', '1.8', '3.03', '0.36', '0.43',\n",
       "       '3.7', '2.56', '1.75', '1.41', '3.84', '1.2', '3.33', '3.46', '4',\n",
       "       '3.48', '0.41', '0.01', '1.15', '0.83', '0.85', '3.63', '3.44',\n",
       "       '0.6', '1.22', '1.92', '2.22', '0.76', '2.05', '0.69', '1.39',\n",
       "       '1.09', '0.81'], dtype=object)"
      ]
     },
     "execution_count": 36,
     "metadata": {},
     "output_type": "execute_result"
    }
   ],
   "source": [
    "df[\"word_freq_labs\"].unique()"
   ]
  },
  {
   "cell_type": "markdown",
   "id": "03aedae2-0656-46ff-a293-742619993c28",
   "metadata": {},
   "source": [
    "Column word_freq_labs : 250 mising data (nan) and 1 malformed value (no)"
   ]
  },
  {
   "cell_type": "code",
   "execution_count": 37,
   "id": "70fa01e4-0826-4f9f-a367-e76d415030c8",
   "metadata": {},
   "outputs": [
    {
     "data": {
      "text/plain": [
       "array([0.  , 0.14, 1.75, 0.12, 0.18, 1.27,  nan, 0.3 , 0.26, 0.03, 2.31,\n",
       "       0.05, 0.16, 0.34, 0.15, 0.17, 0.51, 0.45, 1.11, 0.62, 0.46, 0.07,\n",
       "       0.19, 2.22, 1.69, 2.38, 2.09, 0.35, 2.21, 0.76, 0.39, 1.92, 1.93,\n",
       "       0.04, 2.12, 0.06, 1.88, 0.66, 0.24, 0.13, 0.79, 2.16, 1.61, 0.09,\n",
       "       0.31, 0.02, 0.25, 0.63, 1.46, 0.32, 1.42, 2.06, 1.  , 0.89, 1.47,\n",
       "       0.75, 0.5 , 0.69, 0.2 , 1.57, 0.23, 0.47, 2.11, 2.05, 1.17, 1.5 ,\n",
       "       1.51, 1.66, 0.37, 0.65, 1.07, 0.22, 1.1 , 1.81, 1.15, 1.14, 0.42,\n",
       "       0.4 , 0.97, 1.04, 0.54, 0.53, 0.6 , 1.6 , 0.29, 0.55, 0.78, 0.77,\n",
       "       1.02, 0.1 , 0.61, 0.28, 1.58, 0.86, 0.84, 0.41, 0.58, 0.59, 0.27,\n",
       "       1.94, 4.41, 0.33, 0.68, 0.83, 0.71, 0.81, 2.86, 1.44, 1.7 , 0.08,\n",
       "       1.36, 1.28, 0.01, 1.4 , 1.49, 1.16, 1.19, 2.24, 0.44])"
      ]
     },
     "execution_count": 37,
     "metadata": {},
     "output_type": "execute_result"
    }
   ],
   "source": [
    "df[\"word_freq_addresses\"].unique()"
   ]
  },
  {
   "cell_type": "markdown",
   "id": "80173138-273c-479f-bba2-a2cb157f9231",
   "metadata": {},
   "source": [
    "Columns word_freq_addresses: 9 missing data and no malformed values"
   ]
  },
  {
   "cell_type": "code",
   "execution_count": 38,
   "id": "07d647ba-6d1c-4bdd-b398-d371086a4eb9",
   "metadata": {},
   "outputs": [
    {
     "data": {
      "text/plain": [
       "array([0.  , 0.06, 0.96, 0.42, 1.59, 0.12, 0.48, 0.46, 0.16, 0.19, 0.14,\n",
       "       0.15, 0.66, 0.91, 0.65, 0.44, 0.02, 0.08, 0.92, 1.07, 0.17, 0.1 ,\n",
       "       0.36, 0.59, 0.11, 0.29, 0.68, 0.5 , 0.35, 0.53, 0.47, 0.13, 0.93,\n",
       "       0.09, 0.97, 0.28, 0.03, 2.22, 0.63, 0.2 , 0.07, 0.34, 0.89, 0.64,\n",
       "       0.31, 0.52, 0.51, 0.04, 0.74, 0.37, 1.19, 0.24, 0.49, 0.4 , 0.26,\n",
       "       1.62, 0.27, 1.36, 0.32, 0.38, 0.33, 0.25, 1.  , 0.58, 0.61, 0.43,\n",
       "       0.45, 0.55, 0.22, 2.04, 0.05, 2.11, 4.54, 0.76, 0.23, 0.39, 1.11,\n",
       "       3.57, 1.31, 0.54, 1.85, 0.6 , 0.72, 0.73, 0.99, 0.21, 1.08, 1.38,\n",
       "       4.16, 2.27, 0.87, 0.82, 1.28, 0.75, 1.58, 4.76, 2.77, 1.42, 1.01,\n",
       "       4.34, 0.86, 0.62, 3.12, 1.56, 2.63, 1.72, 0.8 , 0.01, 0.56, 0.78,\n",
       "       3.03, 2.12, 2.56, 1.17, 3.84, 1.2 , 2.  , 4.  , 0.9 , 0.85, 2.32,\n",
       "       0.88, 1.44, 0.77, 0.67,  nan])"
      ]
     },
     "execution_count": 38,
     "metadata": {},
     "output_type": "execute_result"
    }
   ],
   "source": [
    "df[\"word_freq_direct\"].unique()"
   ]
  },
  {
   "cell_type": "markdown",
   "id": "9554df98-b7e9-423e-9648-c521ebe40e65",
   "metadata": {},
   "source": [
    "Columns word_freq_direct: 3 missing data and no malformed values"
   ]
  },
  {
   "cell_type": "code",
   "execution_count": 39,
   "id": "7811c569-77d4-4278-826e-1741c8e9e693",
   "metadata": {},
   "outputs": [
    {
     "data": {
      "text/plain": [
       "array([0.  , 0.1 , 2.32, 0.54, 0.39, 7.14, 3.22, 0.51, 1.16, 0.13, 0.89,\n",
       "       0.25, 0.76, 0.34, 1.38, 0.33, 0.08, 3.25, 0.59, 1.24, 0.18, 0.17,\n",
       "       1.3 , 3.26, 0.31, 0.19, 0.65, 1.56, 3.12, 1.44, 1.62, 0.68, 4.75,\n",
       "       1.29, 0.06, 2.31, 0.36, 0.04, 1.01, 0.26, 0.16, 2.  , 0.94, 1.4 ,\n",
       "       0.29, 0.28, 0.71, 3.07, 0.03, 2.11, 0.2 , 0.61, 1.58, 0.35, 0.37,\n",
       "       2.5 , 2.56, 0.56, 5.  , 0.46, 2.8 , 5.88, 2.22, 2.26, 1.7 , 1.35,\n",
       "       1.92, 1.94, 1.72, 0.92, 0.8 ,  nan, 0.52, 1.26, 0.38, 0.98, 0.75,\n",
       "       1.98, 0.32, 0.69, 0.07, 0.02, 0.93, 2.83, 1.69, 1.33, 0.84, 2.81,\n",
       "       2.15, 0.86, 1.06, 0.81, 1.8 , 1.66, 1.28, 0.23, 0.62, 0.6 , 1.2 ,\n",
       "       1.17, 0.44, 4.28, 2.69, 0.53, 1.88, 0.21, 1.02, 0.42, 4.76])"
      ]
     },
     "execution_count": 39,
     "metadata": {},
     "output_type": "execute_result"
    }
   ],
   "source": [
    "df[\"word_freq_cs\"].unique()"
   ]
  },
  {
   "cell_type": "markdown",
   "id": "8c372041-9be7-42b0-adca-138660993494",
   "metadata": {},
   "source": [
    "Column word_freq_cs: 14 missing data and no malformed values"
   ]
  },
  {
   "cell_type": "code",
   "execution_count": 40,
   "id": "e342ec11-6edf-4279-a76d-35134c979e32",
   "metadata": {},
   "outputs": [
    {
     "data": {
      "text/plain": [
       "array([0.000e+00, 1.300e-01, 6.000e-02, 2.300e-01, 3.400e-01, 1.100e-01,\n",
       "       1.800e-01, 3.000e-02, 2.500e-01,       nan, 4.500e-01, 3.200e-01,\n",
       "       3.500e-01, 3.800e-01, 3.700e-01, 3.600e-01, 4.080e+00, 7.300e-01,\n",
       "       9.000e-01, 3.700e+00, 1.850e+00, 2.890e+00, 1.600e+00, 1.200e-01,\n",
       "       1.880e+00, 8.000e-02, 2.120e+00, 9.100e-01, 6.700e-01, 2.000e-02,\n",
       "       1.900e+00, 9.600e-01, 7.000e-02, 1.750e+00, 1.810e+00, 9.090e+00,\n",
       "       1.000e-02, 9.200e-01, 1.340e+00, 3.220e+00, 5.120e+00, 2.230e+00,\n",
       "       6.000e-01, 9.700e-01, 1.620e+00, 5.400e-01, 2.430e+00, 1.020e+00,\n",
       "       7.600e-01, 9.300e-01, 3.900e-01, 8.900e-01, 1.100e+00, 2.800e-01,\n",
       "       4.000e-01, 4.540e+00, 5.000e+00, 3.840e+00, 1.050e+00, 5.300e-01,\n",
       "       6.600e-01, 8.500e-01, 1.860e+00, 2.690e+00, 1.380e+00, 7.100e-01,\n",
       "       1.040e+00, 7.140e+00, 2.220e+00, 1.440e+00, 2.020e+00, 5.800e-01,\n",
       "       7.800e-01, 3.440e+00, 1.090e+00, 2.400e+00, 2.200e-01, 8.700e-01,\n",
       "       6.060e+00, 4.800e-01, 4.000e-02, 5.700e-01, 6.940e+00, 2.940e+00,\n",
       "       1.310e+00, 2.640e+00, 1.420e+00, 2.700e+00, 4.160e+00, 2.150e+00,\n",
       "       6.150e+00, 6.100e-01, 1.060e+00, 1.960e+00, 3.090e+00, 1.780e+00,\n",
       "       7.500e-01, 2.000e-01, 1.260e+00, 8.000e-01, 2.500e+00, 1.400e-01,\n",
       "       7.690e+00, 2.630e+00, 1.330e+00, 3.400e+00, 3.300e-01, 3.920e+00,\n",
       "       6.400e-01, 1.430e+00, 1.428e+01, 5.200e-01, 4.100e-01, 4.910e+00,\n",
       "       3.330e+00, 1.210e+00, 4.200e-01, 3.270e+00, 1.130e+00, 2.320e+00,\n",
       "       4.900e-01, 8.200e-01, 4.760e+00, 4.440e+00, 1.111e+01, 8.800e-01,\n",
       "       1.800e+00, 2.350e+00, 2.400e-01, 3.570e+00, 7.700e-01, 4.830e+00,\n",
       "       2.850e+00, 1.250e+00, 4.000e+00, 5.400e+00, 3.120e+00, 7.400e+00,\n",
       "       2.380e+00, 8.400e-01, 1.270e+00, 7.000e-01, 6.340e+00, 5.500e-01,\n",
       "       2.700e-01, 1.000e+01, 1.600e-01, 1.190e+00, 2.950e+00, 4.600e-01,\n",
       "       5.900e-01, 1.240e+00, 9.000e-02, 1.900e-01, 5.000e-01, 1.690e+00,\n",
       "       4.400e-01, 7.890e+00, 5.260e+00, 1.230e+00, 1.490e+00, 8.330e+00,\n",
       "       6.450e+00, 9.400e-01, 4.700e-01, 5.100e-01, 1.160e+00, 4.300e-01,\n",
       "       3.630e+00, 2.170e+00, 2.810e+00, 1.000e+00, 1.720e+00, 1.200e+00,\n",
       "       2.100e+00, 6.800e-01, 6.900e-01, 8.300e-01, 1.170e+00, 1.980e+00,\n",
       "       9.500e-01, 2.580e+00, 8.100e-01, 1.470e+00, 5.550e+00, 3.030e+00,\n",
       "       2.100e-01])"
      ]
     },
     "execution_count": 40,
     "metadata": {},
     "output_type": "execute_result"
    }
   ],
   "source": [
    "df[\"word_freq_meeting\"].unique()"
   ]
  },
  {
   "cell_type": "markdown",
   "id": "ced5edfe-ae17-4137-bc7d-81faf09acbc3",
   "metadata": {},
   "source": [
    "Column word_freq_meeting: 1 missing data and no malformed values"
   ]
  },
  {
   "cell_type": "code",
   "execution_count": 41,
   "id": "7492f053-7183-40fe-9f85-569abce33475",
   "metadata": {},
   "outputs": [
    {
     "data": {
      "text/plain": [
       "array([0.  , 0.04, 0.34, 0.46, 0.02, 0.03,  nan, 0.06, 0.09, 0.11, 0.37,\n",
       "       0.16, 0.27, 1.02, 1.91, 0.65, 0.19, 0.18, 0.74, 0.86, 0.05, 0.28,\n",
       "       0.25, 0.39, 0.01, 1.6 , 2.17, 0.12, 0.14, 0.93, 1.51, 0.88, 2.12,\n",
       "       0.73, 0.61, 0.81, 0.72, 0.51, 0.8 ])"
      ]
     },
     "execution_count": 41,
     "metadata": {},
     "output_type": "execute_result"
    }
   ],
   "source": [
    "df[\"word_freq_table\"].unique()"
   ]
  },
  {
   "cell_type": "markdown",
   "id": "5775730e-9c6a-453c-b792-698e0edd3e4a",
   "metadata": {},
   "source": [
    "Column word_freq_table: 40 missing data and no malformed values"
   ]
  },
  {
   "cell_type": "code",
   "execution_count": null,
   "id": "03147b78-53ea-4162-ab25-848be5af1b97",
   "metadata": {},
   "outputs": [],
   "source": []
  }
 ],
 "metadata": {
  "kernelspec": {
   "display_name": "Python 3 (ipykernel)",
   "language": "python",
   "name": "python3"
  },
  "language_info": {
   "codemirror_mode": {
    "name": "ipython",
    "version": 3
   },
   "file_extension": ".py",
   "mimetype": "text/x-python",
   "name": "python",
   "nbconvert_exporter": "python",
   "pygments_lexer": "ipython3",
   "version": "3.12.4"
  }
 },
 "nbformat": 4,
 "nbformat_minor": 5
}
